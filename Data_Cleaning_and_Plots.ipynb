{
 "cells": [
  {
   "cell_type": "markdown",
   "metadata": {},
   "source": [
    "### Code to load dataset:\n",
    "\n",
    "#### 1. Load Dataset\n",
    "#### 2. Clean Dataset:\n",
    "         2.1 Remove special characters\n",
    "         2.2 Remove stop words\n",
    "         2.3 Tokenize\n",
    "         2.4 Perform Lemmitization\n",
    "#### 3. Create Word Count\n",
    "#### 4. Create Word Length Count\n",
    "#### 5. Create Bar Charts for the above"
   ]
  },
  {
   "cell_type": "code",
   "execution_count": 1,
   "metadata": {},
   "outputs": [
    {
     "name": "stdout",
     "output_type": "stream",
     "text": [
      "Dataset has:  23  Questions\n",
      "\n",
      "Dataset Sample: \n"
     ]
    },
    {
     "data": {
      "text/html": [
       "<div>\n",
       "<style scoped>\n",
       "    .dataframe tbody tr th:only-of-type {\n",
       "        vertical-align: middle;\n",
       "    }\n",
       "\n",
       "    .dataframe tbody tr th {\n",
       "        vertical-align: top;\n",
       "    }\n",
       "\n",
       "    .dataframe thead th {\n",
       "        text-align: right;\n",
       "    }\n",
       "</style>\n",
       "<table border=\"1\" class=\"dataframe\">\n",
       "  <thead>\n",
       "    <tr style=\"text-align: right;\">\n",
       "      <th></th>\n",
       "      <th>Questions</th>\n",
       "      <th>Answers</th>\n",
       "    </tr>\n",
       "  </thead>\n",
       "  <tbody>\n",
       "    <tr>\n",
       "      <td>0</td>\n",
       "      <td>How is data scientist different than data analyst</td>\n",
       "      <td>Data Science is a field which contains various...</td>\n",
       "    </tr>\n",
       "    <tr>\n",
       "      <td>1</td>\n",
       "      <td>What is regularisation? Explain L1 and L2 regu...</td>\n",
       "      <td>Regularisation is a mathematical way of solvin...</td>\n",
       "    </tr>\n",
       "    <tr>\n",
       "      <td>2</td>\n",
       "      <td>How do Data Scientists use statistics?</td>\n",
       "      <td>Statistics plays a powerful role in Data Scien...</td>\n",
       "    </tr>\n",
       "    <tr>\n",
       "      <td>3</td>\n",
       "      <td>What does the job hunting experience look like ?</td>\n",
       "      <td>Job hunting experience involves networking to...</td>\n",
       "    </tr>\n",
       "    <tr>\n",
       "      <td>4</td>\n",
       "      <td>Any insights you can offer about the DS job ma...</td>\n",
       "      <td>There are many kinds of roles  data scientist ...</td>\n",
       "    </tr>\n",
       "    <tr>\n",
       "      <td>5</td>\n",
       "      <td>What?s the impact of Covid on hiring for DS ro...</td>\n",
       "      <td>Hiring is going to slow down. First in small c...</td>\n",
       "    </tr>\n",
       "    <tr>\n",
       "      <td>6</td>\n",
       "      <td>What skills and qualities do employers look fo...</td>\n",
       "      <td>The following are some skills employers usuall...</td>\n",
       "    </tr>\n",
       "    <tr>\n",
       "      <td>7</td>\n",
       "      <td>Do employers look for an advanced ML degree?</td>\n",
       "      <td>For more senior roles: People typically look f...</td>\n",
       "    </tr>\n",
       "    <tr>\n",
       "      <td>8</td>\n",
       "      <td>How does a typical day of a data scientist loo...</td>\n",
       "      <td>Here are some tasks in the typical day of a da...</td>\n",
       "    </tr>\n",
       "    <tr>\n",
       "      <td>9</td>\n",
       "      <td>Do I need to prepare algorithms and data struc...</td>\n",
       "      <td>Yes. In many data science interviews (ML Scien...</td>\n",
       "    </tr>\n",
       "    <tr>\n",
       "      <td>10</td>\n",
       "      <td>How proficient should a data scientist be in c...</td>\n",
       "      <td>Needs to be reasonably proficient. Again  a da...</td>\n",
       "    </tr>\n",
       "    <tr>\n",
       "      <td>11</td>\n",
       "      <td>What is the mathematical background required f...</td>\n",
       "      <td>The following three are the basic building blo...</td>\n",
       "    </tr>\n",
       "    <tr>\n",
       "      <td>12</td>\n",
       "      <td>What are the various rounds in a data scientis...</td>\n",
       "      <td>Usually the data science interview has a subse...</td>\n",
       "    </tr>\n",
       "    <tr>\n",
       "      <td>13</td>\n",
       "      <td>Why data cleansing is important?</td>\n",
       "      <td>Data cleansing is a process in which you go th...</td>\n",
       "    </tr>\n",
       "    <tr>\n",
       "      <td>14</td>\n",
       "      <td>What is Linear and Logistic Regression?</td>\n",
       "      <td>The linear regression method involves continuo...</td>\n",
       "    </tr>\n",
       "    <tr>\n",
       "      <td>15</td>\n",
       "      <td>What is Normal Distribution?</td>\n",
       "      <td>The Normal Distribution is a very common distr...</td>\n",
       "    </tr>\n",
       "    <tr>\n",
       "      <td>16</td>\n",
       "      <td>Difference between Interpolation and Extrapola...</td>\n",
       "      <td>Extrapolation and interpolation are both used ...</td>\n",
       "    </tr>\n",
       "    <tr>\n",
       "      <td>17</td>\n",
       "      <td>What is a recommender system?</td>\n",
       "      <td>Recommender systems are one of the most widely...</td>\n",
       "    </tr>\n",
       "    <tr>\n",
       "      <td>18</td>\n",
       "      <td>Between R and Python, Which one would you choo...</td>\n",
       "      <td>Between R and Python, Python would be the best...</td>\n",
       "    </tr>\n",
       "    <tr>\n",
       "      <td>19</td>\n",
       "      <td>Explain A/B Testing</td>\n",
       "      <td>A/B testing is a statistical method of compari...</td>\n",
       "    </tr>\n",
       "    <tr>\n",
       "      <td>20</td>\n",
       "      <td>How can data scientists increase their salaries?</td>\n",
       "      <td>To increase your salary as a data scientist, c...</td>\n",
       "    </tr>\n",
       "    <tr>\n",
       "      <td>21</td>\n",
       "      <td>Can data scientists work from home?</td>\n",
       "      <td>Covid-19 has prompted many companies to adopt ...</td>\n",
       "    </tr>\n",
       "    <tr>\n",
       "      <td>22</td>\n",
       "      <td>Is a data scientist considered an in demand oc...</td>\n",
       "      <td>According to the United States Bureau of Labor...</td>\n",
       "    </tr>\n",
       "  </tbody>\n",
       "</table>\n",
       "</div>"
      ],
      "text/plain": [
       "                                            Questions  \\\n",
       "0   How is data scientist different than data analyst   \n",
       "1   What is regularisation? Explain L1 and L2 regu...   \n",
       "2              How do Data Scientists use statistics?   \n",
       "3    What does the job hunting experience look like ?   \n",
       "4   Any insights you can offer about the DS job ma...   \n",
       "5   What?s the impact of Covid on hiring for DS ro...   \n",
       "6   What skills and qualities do employers look fo...   \n",
       "7       Do employers look for an advanced ML degree?    \n",
       "8   How does a typical day of a data scientist loo...   \n",
       "9   Do I need to prepare algorithms and data struc...   \n",
       "10  How proficient should a data scientist be in c...   \n",
       "11  What is the mathematical background required f...   \n",
       "12  What are the various rounds in a data scientis...   \n",
       "13                   Why data cleansing is important?   \n",
       "14            What is Linear and Logistic Regression?   \n",
       "15                       What is Normal Distribution?   \n",
       "16  Difference between Interpolation and Extrapola...   \n",
       "17                      What is a recommender system?   \n",
       "18  Between R and Python, Which one would you choo...   \n",
       "19                                Explain A/B Testing   \n",
       "20   How can data scientists increase their salaries?   \n",
       "21                Can data scientists work from home?   \n",
       "22  Is a data scientist considered an in demand oc...   \n",
       "\n",
       "                                              Answers  \n",
       "0   Data Science is a field which contains various...  \n",
       "1   Regularisation is a mathematical way of solvin...  \n",
       "2   Statistics plays a powerful role in Data Scien...  \n",
       "3    Job hunting experience involves networking to...  \n",
       "4   There are many kinds of roles  data scientist ...  \n",
       "5   Hiring is going to slow down. First in small c...  \n",
       "6   The following are some skills employers usuall...  \n",
       "7   For more senior roles: People typically look f...  \n",
       "8   Here are some tasks in the typical day of a da...  \n",
       "9   Yes. In many data science interviews (ML Scien...  \n",
       "10  Needs to be reasonably proficient. Again  a da...  \n",
       "11  The following three are the basic building blo...  \n",
       "12  Usually the data science interview has a subse...  \n",
       "13  Data cleansing is a process in which you go th...  \n",
       "14  The linear regression method involves continuo...  \n",
       "15  The Normal Distribution is a very common distr...  \n",
       "16  Extrapolation and interpolation are both used ...  \n",
       "17  Recommender systems are one of the most widely...  \n",
       "18  Between R and Python, Python would be the best...  \n",
       "19  A/B testing is a statistical method of compari...  \n",
       "20  To increase your salary as a data scientist, c...  \n",
       "21  Covid-19 has prompted many companies to adopt ...  \n",
       "22  According to the United States Bureau of Labor...  "
      ]
     },
     "execution_count": 1,
     "metadata": {},
     "output_type": "execute_result"
    }
   ],
   "source": [
    "## Load the FAQ DataSet\n",
    "\n",
    "import pandas as pd\n",
    "import numpy as np\n",
    "\n",
    "df = pd.read_csv(\"faq_database.csv\",header=0)\n",
    "\n",
    "print(\"Dataset has: \",df.shape[0],\" Questions\")\n",
    "\n",
    "print(\"\\nDataset Sample: \")\n",
    "df"
   ]
  },
  {
   "cell_type": "code",
   "execution_count": 2,
   "metadata": {},
   "outputs": [
    {
     "name": "stdout",
     "output_type": "stream",
     "text": [
      "Sample of cleaned sentences: \n",
      "\n",
      " data scientist different data analyst\n",
      "\n",
      " regularisation explain l1 l2 regularisation\n",
      "\n",
      " data scientists use statistics\n",
      "\n",
      " job hunting experience look like\n",
      "\n",
      "\n"
     ]
    }
   ],
   "source": [
    "#Remove special characters and stopwords from the data\n",
    "\n",
    "import re\n",
    "import gensim\n",
    "from gensim.parsing.preprocessing import remove_stopwords\n",
    "\n",
    "\n",
    "def clean_sentence(sentence, stopwords=False):\n",
    "    \n",
    "    \n",
    "    sentence = sentence.lower().strip()\n",
    "    sentence = re.sub(r'[^a-z0-9\\s]', '',sentence)\n",
    "    \n",
    "    if stopwords:\n",
    "        sentence = remove_stopwords(sentence)\n",
    "        \n",
    "    return sentence\n",
    "        \n",
    "def get_cleaned_sentences(df,stopwords=False):\n",
    "    sents = df[['Questions']];\n",
    "    cleaned_sentences =[]\n",
    "    \n",
    "    for index,row in df.iterrows():\n",
    "        cleaned = clean_sentence(row[\"Questions\"],stopwords);\n",
    "        cleaned_sentences.append(cleaned);\n",
    "    return cleaned_sentences;\n",
    "\n",
    "cleaned_sentences=get_cleaned_sentences(df,stopwords=True)\n",
    "print(\"Sample of cleaned sentences: \\n\\n\",cleaned_sentences[0]);\n",
    "print(\"\\n\",cleaned_sentences[1])\n",
    "print(\"\\n\",cleaned_sentences[2])\n",
    "print(\"\\n\",cleaned_sentences[3])\n",
    "\n",
    "print(\"\\n\")\n",
    "\n",
    "\n"
   ]
  },
  {
   "cell_type": "code",
   "execution_count": 3,
   "metadata": {},
   "outputs": [
    {
     "name": "stdout",
     "output_type": "stream",
     "text": [
      "['data', 'scientist', 'different', 'data', 'analyst']\n",
      "[4, 9, 9, 4, 7]\n"
     ]
    }
   ],
   "source": [
    "#Tokenization of sentences\n",
    "#Creating word list and word length\n",
    "#Ignoring 1 letter words\n",
    "\n",
    "word_list = []\n",
    "word_length_list =[]\n",
    "        \n",
    "for sentence in cleaned_sentences:\n",
    "    words = sentence.split()\n",
    "    for word in words:\n",
    "        if len(word) > 1:\n",
    "            word_list.append(word)\n",
    "            word_length_list.append(len(word))\n",
    "\n",
    "print(word_list[0:5])\n",
    "print(word_length_list[0:5])\n",
    "\n",
    "        "
   ]
  },
  {
   "cell_type": "markdown",
   "metadata": {},
   "source": [
    "### Lemmitization"
   ]
  },
  {
   "cell_type": "code",
   "execution_count": 4,
   "metadata": {},
   "outputs": [
    {
     "name": "stdout",
     "output_type": "stream",
     "text": [
      "Word                Lemma               \n",
      "He                  He                  \n",
      "was                 be                  \n",
      "longing             long                \n",
      "and                 and                 \n",
      "eating              eat                 \n",
      "at                  at                  \n",
      "same                same                \n",
      "time                time                \n",
      "He                  He                  \n",
      "has                 have                \n",
      "bad                 bad                 \n",
      "habit               habit               \n",
      "of                  of                  \n",
      "swimming            swim                \n",
      "after               after               \n",
      "playing             play                \n",
      "long                long                \n",
      "hours               hours               \n",
      "in                  in                  \n",
      "the                 the                 \n",
      "Sun                 Sun                 \n"
     ]
    }
   ],
   "source": [
    "#Example of how lemmitization works:\n",
    "\n",
    "from nltk.corpus import wordnet\n",
    "import nltk\n",
    "from nltk.stem.snowball import SnowballStemmer\n",
    "from nltk.stem.wordnet import WordNetLemmatizer\n",
    "\n",
    "#Create array of words and convert to base form\n",
    "\n",
    "\n",
    "WordNetLemmatizer().lemmatize(word)\n",
    "stemmer = SnowballStemmer(\"english\")\n",
    "\n",
    "from nltk.stem import WordNetLemmatizer\n",
    "wordnet_lemmatizer = WordNetLemmatizer()\n",
    "\n",
    "sentence = \"He was longing and eating at same time. He has bad habit of swimming after playing long hours in the Sun.\"\n",
    "punctuations=\"?:!.,;\"\n",
    "sentence_words = nltk.word_tokenize(sentence)\n",
    "\n",
    "for word in sentence_words:\n",
    "    if word in punctuations:\n",
    "        sentence_words.remove(word)\n",
    "\n",
    "sentence_words\n",
    "print(\"{0:20}{1:20}\".format(\"Word\",\"Lemma\"))\n",
    "\n",
    "\n",
    "for word in sentence_words:\n",
    "    print (\"{0:20}{1:20}\".format(word,wordnet_lemmatizer.lemmatize(word, pos=\"v\")))\n",
    "    \n"
   ]
  },
  {
   "cell_type": "code",
   "execution_count": 5,
   "metadata": {},
   "outputs": [
    {
     "name": "stdout",
     "output_type": "stream",
     "text": [
      "['scientists', 'use', 'statistics', 'job', 'hunting']\n",
      "['scientist', 'use', 'statistic', 'job', 'hunt']\n"
     ]
    }
   ],
   "source": [
    "#Perform lemmitization of the dataset\n",
    "\n",
    "from nltk.corpus import wordnet as wn\n",
    "from nltk.stem.wordnet import WordNetLemmatizer\n",
    "from nltk import word_tokenize, pos_tag\n",
    "from collections import defaultdict\n",
    "\n",
    "tag_map = defaultdict(lambda : wn.NOUN)\n",
    "tag_map['J'] = wn.ADJ\n",
    "tag_map['V'] = wn.VERB\n",
    "tag_map['R'] = wn.ADV\n",
    "\n",
    "lmtzr = WordNetLemmatizer()\n",
    "tokens = word_list[:]\n",
    "word_list_lem =[]\n",
    "\n",
    "for token, tag in pos_tag(tokens):\n",
    "    word_list_lem.append(lmtzr.lemmatize(token, tag_map[tag[0]]))\n",
    "    lemm = lmtzr.lemmatize(token, tag_map[tag[0]])\n",
    "    \n",
    "print(word_list[11:16])\n",
    "print(word_list_lem[11:16])"
   ]
  },
  {
   "cell_type": "markdown",
   "metadata": {},
   "source": [
    "### Word Count and Word Length Plots"
   ]
  },
  {
   "cell_type": "code",
   "execution_count": 6,
   "metadata": {},
   "outputs": [
    {
     "name": "stdout",
     "output_type": "stream",
     "text": [
      "Unique Words:  69\n",
      "Total Words:  100\n"
     ]
    }
   ],
   "source": [
    "#Print Total and Unique Word Counts:\n",
    "\n",
    "print(\"Unique Words: \",len(np.unique(word_list_lem[:])))\n",
    "print(\"Total Words: \",len(word_list_lem[:]))"
   ]
  },
  {
   "cell_type": "code",
   "execution_count": 8,
   "metadata": {},
   "outputs": [
    {
     "data": {
      "image/png": "[encoded data removed]",
      "text/plain": [
       "<Figure size 432x288 with 1 Axes>"
      ]
     },
     "metadata": {
      "needs_background": "light"
     },
     "output_type": "display_data"
    }
   ],
   "source": [
    "#Create Histogram for most common words:\n",
    "\n",
    "from collections import Counter\n",
    "import numpy as np\n",
    "import matplotlib.pyplot as plt\n",
    "\n",
    "#For Most Common n words:\n",
    "counts = dict(Counter(word_list_lem).most_common(5))\n",
    "\n",
    "counts_length = Counter(word_list_lem)\n",
    "\n",
    "labels, values = zip(*counts.items())\n",
    "\n",
    "# sort your values in descending order\n",
    "indSort = np.argsort(values)[::-1]\n",
    "\n",
    "# rearrange your data\n",
    "labels = np.array(labels)[indSort]\n",
    "values = np.array(values)[indSort]\n",
    "\n",
    "indexes = np.arange(len(labels))\n",
    "\n",
    "bar_width = 0.35\n",
    "\n",
    "plt.bar(indexes, values)\n",
    "\n",
    "# add labels\n",
    "plt.xticks(indexes + bar_width, labels)\n",
    "plt.title(\"Most Common Words\")\n",
    "plt.ylabel(\"Frequency\")\n",
    "plt.savefig(\"Bar_Chart1\",bbox_inches='tight')\n",
    "plt.show()"
   ]
  },
  {
   "cell_type": "code",
   "execution_count": 9,
   "metadata": {},
   "outputs": [
    {
     "name": "stdout",
     "output_type": "stream",
     "text": [
      "Counter({4: 24, 9: 15, 10: 13, 6: 12, 7: 8, 8: 7, 2: 6, 3: 4, 5: 4, 14: 2, 12: 2, 13: 2, 11: 1})\n"
     ]
    },
    {
     "data": {
      "image/png": "[encoded data removed]",
      "text/plain": [
       "<Figure size 432x288 with 1 Axes>"
      ]
     },
     "metadata": {
      "needs_background": "light"
     },
     "output_type": "display_data"
    }
   ],
   "source": [
    "#Create Histogram of word length count\n",
    "\n",
    "counts_length = Counter(word_length_list)\n",
    "print(counts_length)\n",
    "\n",
    "labels, values = zip(*counts_length.items())\n",
    "\n",
    "# sort your values in descending order\n",
    "indSort = np.argsort(labels)[::1]\n",
    "\n",
    "# rearrange your data\n",
    "labels = np.array(labels)[indSort]\n",
    "values = np.array(values)[indSort]\n",
    "\n",
    "indexes = np.arange(len(labels))\n",
    "\n",
    "bar_width = 0.35\n",
    "\n",
    "plt.bar(indexes, values)\n",
    "\n",
    "# add labels\n",
    "plt.xticks(indexes + bar_width, labels)\n",
    "\n",
    "plt.title(\"Word Length Histogram\")\n",
    "plt.ylabel(\"Frequency\")\n",
    "\n",
    "plt.savefig(\"Bar_Chart1\",bbox_inches='tight')\n",
    "plt.show()\n"
   ]
  },
  {
   "cell_type": "code",
   "execution_count": null,
   "metadata": {},
   "outputs": [],
   "source": []
  }
 ],
 "metadata": {
  "kernelspec": {
   "display_name": "Python 3",
   "language": "python",
   "name": "python3"
  },
  "language_info": {
   "codemirror_mode": {
    "name": "ipython",
    "version": 3
   },
   "file_extension": ".py",
   "mimetype": "text/x-python",
   "name": "python",
   "nbconvert_exporter": "python",
   "pygments_lexer": "ipython3",
   "version": "3.7.4"
  }
 },
 "nbformat": 4,
 "nbformat_minor": 2
}
